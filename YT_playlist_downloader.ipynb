{
  "cells": [
    {
      "cell_type": "code",
      "execution_count": 1,
      "metadata": {
        "colab": {
          "base_uri": "https://localhost:8080/"
        },
        "id": "BuJujbc5CKcl",
        "outputId": "e4a68eb4-73a2-4f0e-fc3d-c3a499ed5ed1"
      },
      "outputs": [
        {
          "output_type": "stream",
          "name": "stdout",
          "text": [
            "Looking in indexes: https://pypi.org/simple, https://us-python.pkg.dev/colab-wheels/public/simple/\n",
            "Collecting pytube\n",
            "  Downloading pytube-12.1.2-py3-none-any.whl (57 kB)\n",
            "\u001b[2K     \u001b[90m━━━━━━━━━━━━━━━━━━━━━━━━━━━━━━━━━━━━━━━━\u001b[0m \u001b[32m57.0/57.0 KB\u001b[0m \u001b[31m2.1 MB/s\u001b[0m eta \u001b[36m0:00:00\u001b[0m\n",
            "\u001b[?25hInstalling collected packages: pytube\n",
            "Successfully installed pytube-12.1.2\n",
            "Looking in indexes: https://pypi.org/simple, https://us-python.pkg.dev/colab-wheels/public/simple/\n",
            "Collecting pydub\n",
            "  Downloading pydub-0.25.1-py2.py3-none-any.whl (32 kB)\n",
            "Installing collected packages: pydub\n",
            "Successfully installed pydub-0.25.1\n"
          ]
        }
      ],
      "source": [
        "# install libaries\n",
        "!pip install pytube\n",
        "!pip install pydub"
      ]
    },
    {
      "cell_type": "markdown",
      "source": [
        "## Specify folder names and playlist URL"
      ],
      "metadata": {
        "id": "wjJwAq8Sjkms"
      }
    },
    {
      "cell_type": "code",
      "source": [
        "import os\n",
        "# create the new folder for mp4 files\n",
        "mp4_folder = 'mp4_files/'\n",
        "if not os.path.exists(mp4_folder):\n",
        "    os.makedirs(mp4_folder)\n",
        "# create the new folder for mp3 files\n",
        "mp3_folder = 'mp3_files/'\n",
        "if not os.path.exists(mp3_folder):\n",
        "    os.makedirs(mp3_folder)\n",
        "# specify the url of the youtube playlist\n",
        "url = 'https://www.youtube.com/playlist?list=PL2X2v6i7yJnX2GhryajcOisOKVQhAkGru'"
      ],
      "metadata": {
        "id": "ftA51-C2fxuW"
      },
      "execution_count": 3,
      "outputs": []
    },
    {
      "cell_type": "markdown",
      "source": [
        "## Download videos as mp4 files"
      ],
      "metadata": {
        "id": "5HiVzGztjqaD"
      }
    },
    {
      "cell_type": "code",
      "source": [
        "import subprocess\n",
        "from pytube import Playlist, YouTube\n",
        "\n",
        "def download_mp4(playlist):\n",
        "    # get linked list of links in the playlist\n",
        "    links = playlist.video_urls\n",
        "    # download each item in the list\n",
        "    for link in links:\n",
        "        # converts the link to a YouTube object\n",
        "        yt = YouTube(link)\n",
        "        mp4_files = yt.streams.filter(file_extension=\"mp4\")\n",
        "        mp4_369p_files = mp4_files.get_by_resolution(\"360p\")\n",
        "        # download the mp4 file\n",
        "        file_path = mp4_369p_files.download(mp4_folder)\n",
        "        print('Downloaded ', file_path)\n",
        "    print(\"Download finished.\")\n",
        "\n",
        "\n",
        "# create a Playlist object\n",
        "playlist = Playlist(url)\n",
        "# call the download function\n",
        "download_mp4(playlist)"
      ],
      "metadata": {
        "id": "7vTxlQmpjSyr"
      },
      "execution_count": null,
      "outputs": []
    },
    {
      "cell_type": "markdown",
      "source": [
        "## Convert mp4 files to mp3 files"
      ],
      "metadata": {
        "id": "tHnvwwAIjuuC"
      }
    },
    {
      "cell_type": "code",
      "source": [
        "from pydub import AudioSegment\n",
        "import os\n",
        "\n",
        "# check if the folder exists\n",
        "if os.path.exists(mp4_folder):\n",
        "    # loop through all files in the folder\n",
        "    for file in os.listdir(mp4_folder):\n",
        "        # check if the file is an mp4 file\n",
        "        if file.endswith('.mp4'):\n",
        "            # create the full path of the mp4 file\n",
        "            mp4_file = os.path.join(mp4_folder, file)\n",
        "            # open the mp4 file\n",
        "            mp4 = AudioSegment.from_file(mp4_file, format=\"mp4\")\n",
        "            # create the full path of the mp3 file\n",
        "            mp3_file = os.path.join(mp3_folder, os.path.splitext(file)[0] + '.mp3')\n",
        "            # convert the mp4 file to mp3\n",
        "            mp4.export(mp3_file, format=\"mp3\")\n",
        "            print(f\"{file} converted successfully.\")\n",
        "    print(\"All files have been converted.\")\n",
        "else:\n",
        "    print(\"Folder not found.\")"
      ],
      "metadata": {
        "id": "foT1K6f_csWt"
      },
      "execution_count": null,
      "outputs": []
    },
    {
      "cell_type": "markdown",
      "source": [
        "## Zip the mp3 files and download the zip file"
      ],
      "metadata": {
        "id": "WjWYxFsMj5n7"
      }
    },
    {
      "cell_type": "code",
      "source": [
        "import shutil\n",
        "\n",
        "# specify the name of the zip file\n",
        "zip_file = 'songs_mp3'\n",
        "\n",
        "# create the zip file\n",
        "shutil.make_archive(zip_file, 'zip', mp3_folder)\n",
        "\n",
        "# download the zip file to local machine\n",
        "from google.colab import files\n",
        "files.download(zip_file+'.zip')"
      ],
      "metadata": {
        "colab": {
          "base_uri": "https://localhost:8080/",
          "height": 17
        },
        "id": "v4ejOLyqbVGM",
        "outputId": "bae02631-049a-410c-afcb-2d5022696c31"
      },
      "execution_count": 6,
      "outputs": [
        {
          "output_type": "display_data",
          "data": {
            "text/plain": [
              "<IPython.core.display.Javascript object>"
            ],
            "application/javascript": [
              "\n",
              "    async function download(id, filename, size) {\n",
              "      if (!google.colab.kernel.accessAllowed) {\n",
              "        return;\n",
              "      }\n",
              "      const div = document.createElement('div');\n",
              "      const label = document.createElement('label');\n",
              "      label.textContent = `Downloading \"${filename}\": `;\n",
              "      div.appendChild(label);\n",
              "      const progress = document.createElement('progress');\n",
              "      progress.max = size;\n",
              "      div.appendChild(progress);\n",
              "      document.body.appendChild(div);\n",
              "\n",
              "      const buffers = [];\n",
              "      let downloaded = 0;\n",
              "\n",
              "      const channel = await google.colab.kernel.comms.open(id);\n",
              "      // Send a message to notify the kernel that we're ready.\n",
              "      channel.send({})\n",
              "\n",
              "      for await (const message of channel.messages) {\n",
              "        // Send a message to notify the kernel that we're ready.\n",
              "        channel.send({})\n",
              "        if (message.buffers) {\n",
              "          for (const buffer of message.buffers) {\n",
              "            buffers.push(buffer);\n",
              "            downloaded += buffer.byteLength;\n",
              "            progress.value = downloaded;\n",
              "          }\n",
              "        }\n",
              "      }\n",
              "      const blob = new Blob(buffers, {type: 'application/binary'});\n",
              "      const a = document.createElement('a');\n",
              "      a.href = window.URL.createObjectURL(blob);\n",
              "      a.download = filename;\n",
              "      div.appendChild(a);\n",
              "      a.click();\n",
              "      div.remove();\n",
              "    }\n",
              "  "
            ]
          },
          "metadata": {}
        },
        {
          "output_type": "display_data",
          "data": {
            "text/plain": [
              "<IPython.core.display.Javascript object>"
            ],
            "application/javascript": [
              "download(\"download_19ebf616-8d3a-48f5-8eca-e8e78aa09678\", \"songs_mp3.zip\", 7332754)"
            ]
          },
          "metadata": {}
        }
      ]
    }
  ],
  "metadata": {
    "colab": {
      "provenance": []
    },
    "kernelspec": {
      "display_name": "Python 3",
      "name": "python3"
    },
    "language_info": {
      "name": "python"
    }
  },
  "nbformat": 4,
  "nbformat_minor": 0
}